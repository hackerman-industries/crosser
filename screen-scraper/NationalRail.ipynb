{
 "cells": [
  {
   "cell_type": "code",
   "execution_count": 40,
   "metadata": {},
   "outputs": [],
   "source": [
    "import requests\n",
    "from bs4 import BeautifulSoup\n",
    "from datetime import datetime\n",
    "import pandas"
   ]
  },
  {
   "cell_type": "code",
   "execution_count": 2,
   "metadata": {},
   "outputs": [],
   "source": [
    "nationalRailURL = 'https://ojp.nationalrail.co.uk/service/timesandfares'\n",
    "#Order baseURL,departure station,arrival station,today(word),time,'/dep'\n",
    "disleyCode = 'DSL'\n",
    "middlewoodCode = 'MDL'\n",
    "hazelGroveCode = 'HAZ'"
   ]
  },
  {
   "cell_type": "markdown",
   "metadata": {},
   "source": [
    "Route:\n",
    "\n",
    "   X'ing\n",
    "     |\n",
    "     v\n",
    "HAZ -> MDL -> DSL"
   ]
  },
  {
   "cell_type": "code",
   "execution_count": 3,
   "metadata": {},
   "outputs": [],
   "source": [
    "def urlRequestBulk():\n",
    "    time = datetime.now().strftime(\"%H%M\")\n",
    "    urlConstOne = nationalRailURL + '/' + disleyCode + '/' + hazelGroveCode + '/' + 'today/' + time + '/dep#outwardJump'\n",
    "    urlConstTwo = nationalRailURL + '/' + hazelGroveCode + '/' + disleyCode + '/' + 'today/' + time + '/dep#outwardJump'\n",
    "    print(urlConstOne)\n",
    "    print(urlConstTwo)\n",
    "    DSLtoHAZ_html = requests.get(urlConstOne).text\n",
    "    HAZtoDSL_html = requests.get(urlConstTwo).text\n",
    "    return DSLtoHAZ_html, HAZtoDSL_html   "
   ]
  },
  {
   "cell_type": "code",
   "execution_count": 7,
   "metadata": {},
   "outputs": [],
   "source": [
    "def tableDataExtraction(htmlData):\n",
    "    extracted_tables = []\n",
    "    for i in range(len(htmlData)):\n",
    "        data = []\n",
    "        html_Soup = BeautifulSoup(htmlData[i], 'html.parser')\n",
    "        valueTable = html_Soup.find('table', attrs={'id' : 'oft'})\n",
    "        table_body = valueTable.find('tbody')\n",
    "\n",
    "        rows = table_body.find_all('tr')\n",
    "        for row in rows:\n",
    "            cols = row.find_all('td')\n",
    "            cols = [ele.text.strip() for ele in cols]\n",
    "            data.append([ele for ele in cols if ele])\n",
    "        extracted_tables.append(data)\n",
    "\n",
    "    return extracted_tables"
   ]
  },
  {
   "cell_type": "code",
   "execution_count": 47,
   "metadata": {},
   "outputs": [],
   "source": [
    "def main():\n",
    "    DSLtoHAZ, HAZtoDSL = urlRequestBulk()\n",
    "    htmlData = [DSLtoHAZ, HAZtoDSL]\n",
    "    tableData = tableDataExtraction(htmlData)\n",
    "    for i in range (len(tableData)): #Clean-Up of HTML tables\n",
    "        for e in range (len(tableData[i])):\n",
    "            for a in range(len(tableData[i][e])):\n",
    "                if 'Departs' or 'Arrives' in tableData[i][e][a]:\n",
    "                    tableData[i][e][a] = tableData[i][e][a].replace('\\n','').replace('\\t','')\n",
    "                else:\n",
    "                    tableData[i][e].pop([a])\n",
    "        print(tableData[i])"
   ]
  },
  {
   "cell_type": "code",
   "execution_count": 48,
   "metadata": {},
   "outputs": [
    {
     "name": "stdout",
     "output_type": "stream",
     "text": [
      "https://ojp.nationalrail.co.uk/service/timesandfares/DSL/HAZ/today/1502/dep#outwardJump\n",
      "https://ojp.nationalrail.co.uk/service/timesandfares/HAZ/DSL/today/1502/dep#outwardJump\n",
      "[['Departs\\xa0at15:27Disley [DSL]Platform2', '07m0 change(s)More view details  on the 15:27service from Disley toHazel Grove', 'Arrives\\xa015:34Hazel Grove [HAZ]Platform2Buy from Select train operatorSoutheasternGreat Western RailwayGreater AngliaThameslinkGrand CentralRailEasyLNERHull Trainsthetrainline.comC2CGreat NorthernRedspottedhankyNorthernSouthernEast Midlands RailwayAvanti West CoastChiltern RailwaysCaledonian SleeperLondon Northwestern RailwayWest Midlands RailwayLumoCrossCountryScotRailSouth Western RailwayTransport for WalesTransPennine ExpressRailEasyRedspottedhankythetrainline.com', 'on time', 'cheapest fareSingle Fare£3.70Buy Now Anytime Othertickets'], ['Service UpdateStrike action by RMT union will significantly impact Northern services between 18 and 21 August.More information can be found here: northernrailway.co.uk/strikes'], ['Ticket summary - RETURNPlease select returnjourneyTotalï¿½00.00Totalï¿½00.00Fare informationOutwardReturnTicket summary SINGLEBuy fromOutward totalï¿½0.00Please select returnjourneyReturn totalï¿½00.00Totalï¿½00.00Single fare - Outward journey1 x Adult - Anytime(16-25 Railcard)Savingï¿½19.00ï¿½14.00Totalï¿½14.00Totalï¿½00.00Fare informationOutwardReturn', 'ï¿½00.00', 'ï¿½00.00', 'ï¿½0.00', 'ï¿½00.00', 'ï¿½00.00', 'Single fare - Outward journey', '1 x Adult - Anytime(16-25 Railcard)Savingï¿½19.00', 'ï¿½14.00', 'ï¿½14.00', 'ï¿½00.00'], [], ['ï¿½00.00'], ['ï¿½00.00'], ['ï¿½0.00'], [], ['ï¿½00.00'], ['ï¿½00.00'], ['Single fare - Outward journey', '1 x Adult - Anytime(16-25 Railcard)Savingï¿½19.00', 'ï¿½14.00'], ['ï¿½14.00'], ['ï¿½00.00'], ['Departs\\xa0at16:02Disley [DSL]Platform2', '07m0 change(s)More view details  on the 16:02service from Disley toHazel Grove', 'Arrives\\xa016:09Hazel Grove [HAZ]Platform2Buy from Select train operatorSoutheasternGreat Western RailwayGreater AngliaThameslinkGrand CentralRailEasyLNERHull Trainsthetrainline.comC2CGreat NorthernRedspottedhankyNorthernSouthernEast Midlands RailwayAvanti West CoastChiltern RailwaysCaledonian SleeperLondon Northwestern RailwayWest Midlands RailwayLumoCrossCountryScotRailSouth Western RailwayTransport for WalesTransPennine ExpressRailEasyRedspottedhankythetrainline.com', 'on time', 'Single Fare£3.70Buy Now Anytime Othertickets'], ['Service UpdateStrike action by RMT union will significantly impact Northern services between 18 and 21 August.More information can be found here: northernrailway.co.uk/strikes'], ['Ticket summary - RETURNPlease select returnjourneyTotalï¿½00.00Totalï¿½00.00Fare informationOutwardReturnTicket summary SINGLEBuy fromOutward totalï¿½0.00Please select returnjourneyReturn totalï¿½00.00Totalï¿½00.00Single fare - Outward journey1 x Adult - Anytime(16-25 Railcard)Savingï¿½19.00ï¿½14.00Totalï¿½14.00Totalï¿½00.00Fare informationOutwardReturn', 'ï¿½00.00', 'ï¿½00.00', 'ï¿½0.00', 'ï¿½00.00', 'ï¿½00.00', 'Single fare - Outward journey', '1 x Adult - Anytime(16-25 Railcard)Savingï¿½19.00', 'ï¿½14.00', 'ï¿½14.00', 'ï¿½00.00'], [], ['ï¿½00.00'], ['ï¿½00.00'], ['ï¿½0.00'], [], ['ï¿½00.00'], ['ï¿½00.00'], ['Single fare - Outward journey', '1 x Adult - Anytime(16-25 Railcard)Savingï¿½19.00', 'ï¿½14.00'], ['ï¿½14.00'], ['ï¿½00.00'], ['Departs\\xa0at17:26Disley [DSL]Platform2', '08m0 change(s)More view details  on the 17:26service from Disley toHazel Grove', 'Arrives\\xa017:34Hazel Grove [HAZ]Platform2Buy from Select train operatorSoutheasternGreat Western RailwayGreater AngliaThameslinkGrand CentralRailEasyLNERHull Trainsthetrainline.comC2CGreat NorthernRedspottedhankyNorthernSouthernEast Midlands RailwayAvanti West CoastChiltern RailwaysCaledonian SleeperLondon Northwestern RailwayWest Midlands RailwayLumoCrossCountryScotRailSouth Western RailwayTransport for WalesTransPennine ExpressRailEasyRedspottedhankythetrainline.com', 'on time', 'Single Fare£3.70Buy Now Anytime Othertickets'], ['Service UpdateStrike action by RMT union will significantly impact Northern services between 18 and 21 August.More information can be found here: northernrailway.co.uk/strikes'], ['Ticket summary - RETURNPlease select returnjourneyTotalï¿½00.00Totalï¿½00.00Fare informationOutwardReturnTicket summary SINGLEBuy fromOutward totalï¿½0.00Please select returnjourneyReturn totalï¿½00.00Totalï¿½00.00Single fare - Outward journey1 x Adult - Anytime(16-25 Railcard)Savingï¿½19.00ï¿½14.00Totalï¿½14.00Totalï¿½00.00Fare informationOutwardReturn', 'ï¿½00.00', 'ï¿½00.00', 'ï¿½0.00', 'ï¿½00.00', 'ï¿½00.00', 'Single fare - Outward journey', '1 x Adult - Anytime(16-25 Railcard)Savingï¿½19.00', 'ï¿½14.00', 'ï¿½14.00', 'ï¿½00.00'], [], ['ï¿½00.00'], ['ï¿½00.00'], ['ï¿½0.00'], [], ['ï¿½00.00'], ['ï¿½00.00'], ['Single fare - Outward journey', '1 x Adult - Anytime(16-25 Railcard)Savingï¿½19.00', 'ï¿½14.00'], ['ï¿½14.00'], ['ï¿½00.00'], ['Departs\\xa0at18:26Disley [DSL]Platform2', '08m0 change(s)More view details  on the 18:26service from Disley toHazel Grove', 'Arrives\\xa018:34Hazel Grove [HAZ]Platform2Buy from Select train operatorSoutheasternGreat Western RailwayGreater AngliaThameslinkGrand CentralRailEasyLNERHull Trainsthetrainline.comC2CGreat NorthernRedspottedhankyNorthernSouthernEast Midlands RailwayAvanti West CoastChiltern RailwaysCaledonian SleeperLondon Northwestern RailwayWest Midlands RailwayLumoCrossCountryScotRailSouth Western RailwayTransport for WalesTransPennine ExpressRailEasyRedspottedhankythetrainline.com', 'on time', 'Single Fare£3.70Buy Now Anytime Othertickets'], ['Service UpdateStrike action by RMT union will significantly impact Northern services between 18 and 21 August.More information can be found here: northernrailway.co.uk/strikes'], ['Ticket summary - RETURNPlease select returnjourneyTotalï¿½00.00Totalï¿½00.00Fare informationOutwardReturnTicket summary SINGLEBuy fromOutward totalï¿½0.00Please select returnjourneyReturn totalï¿½00.00Totalï¿½00.00Single fare - Outward journey1 x Adult - Anytime(16-25 Railcard)Savingï¿½19.00ï¿½14.00Totalï¿½14.00Totalï¿½00.00Fare informationOutwardReturn', 'ï¿½00.00', 'ï¿½00.00', 'ï¿½0.00', 'ï¿½00.00', 'ï¿½00.00', 'Single fare - Outward journey', '1 x Adult - Anytime(16-25 Railcard)Savingï¿½19.00', 'ï¿½14.00', 'ï¿½14.00', 'ï¿½00.00'], [], ['ï¿½00.00'], ['ï¿½00.00'], ['ï¿½0.00'], [], ['ï¿½00.00'], ['ï¿½00.00'], ['Single fare - Outward journey', '1 x Adult - Anytime(16-25 Railcard)Savingï¿½19.00', 'ï¿½14.00'], ['ï¿½14.00'], ['ï¿½00.00'], ['Departs\\xa0at19:26Disley [DSL]Platform2', '08m0 change(s)More view details  on the 19:26service from Disley toHazel Grove', 'Arrives\\xa019:34Hazel Grove [HAZ]Platform2Buy from Select train operatorSoutheasternGreat Western RailwayGreater AngliaThameslinkGrand CentralRailEasyLNERHull Trainsthetrainline.comC2CGreat NorthernRedspottedhankyNorthernSouthernEast Midlands RailwayAvanti West CoastChiltern RailwaysCaledonian SleeperLondon Northwestern RailwayWest Midlands RailwayLumoCrossCountryScotRailSouth Western RailwayTransport for WalesTransPennine ExpressRailEasyRedspottedhankythetrainline.com', 'on time', 'Single Fare£3.70Buy Now Anytime Othertickets'], ['Service UpdateStrike action by RMT union will significantly impact Northern services between 18 and 21 August.More information can be found here: northernrailway.co.uk/strikes'], ['Ticket summary - RETURNPlease select returnjourneyTotalï¿½00.00Totalï¿½00.00Fare informationOutwardReturnTicket summary SINGLEBuy fromOutward totalï¿½0.00Please select returnjourneyReturn totalï¿½00.00Totalï¿½00.00Single fare - Outward journey1 x Adult - Anytime(16-25 Railcard)Savingï¿½19.00ï¿½14.00Totalï¿½14.00Totalï¿½00.00Fare informationOutwardReturn', 'ï¿½00.00', 'ï¿½00.00', 'ï¿½0.00', 'ï¿½00.00', 'ï¿½00.00', 'Single fare - Outward journey', '1 x Adult - Anytime(16-25 Railcard)Savingï¿½19.00', 'ï¿½14.00', 'ï¿½14.00', 'ï¿½00.00'], [], ['ï¿½00.00'], ['ï¿½00.00'], ['ï¿½0.00'], [], ['ï¿½00.00'], ['ï¿½00.00'], ['Single fare - Outward journey', '1 x Adult - Anytime(16-25 Railcard)Savingï¿½19.00', 'ï¿½14.00'], ['ï¿½14.00'], ['ï¿½00.00']]\n",
      "[['Departs\\xa0at15:27Hazel Grove [HAZ]Platform1', '09m0 change(s)More view details  on the 15:27service from Hazel Grove toDisley', 'Arrives\\xa015:36Disley [DSL]Platform1Buy from Select train operatorSoutheasternGreat Western RailwayGreater AngliaThameslinkGrand CentralRailEasyLNERHull Trainsthetrainline.comC2CGreat NorthernRedspottedhankyNorthernSouthernEast Midlands RailwayAvanti West CoastChiltern RailwaysCaledonian SleeperLondon Northwestern RailwayWest Midlands RailwayLumoCrossCountryScotRailSouth Western RailwayTransport for WalesTransPennine ExpressRailEasyRedspottedhankythetrainline.com', 'on time', 'cheapest fareSingle Fare£3.70Buy Now Anytime Othertickets'], ['Service UpdateStrike action by RMT union will significantly impact Northern services between 18 and 21 August.More information can be found here: northernrailway.co.uk/strikes'], ['Ticket summary - RETURNPlease select returnjourneyTotalï¿½00.00Totalï¿½00.00Fare informationOutwardReturnTicket summary SINGLEBuy fromOutward totalï¿½0.00Please select returnjourneyReturn totalï¿½00.00Totalï¿½00.00Single fare - Outward journey1 x Adult - Anytime(16-25 Railcard)Savingï¿½19.00ï¿½14.00Totalï¿½14.00Totalï¿½00.00Fare informationOutwardReturn', 'ï¿½00.00', 'ï¿½00.00', 'ï¿½0.00', 'ï¿½00.00', 'ï¿½00.00', 'Single fare - Outward journey', '1 x Adult - Anytime(16-25 Railcard)Savingï¿½19.00', 'ï¿½14.00', 'ï¿½14.00', 'ï¿½00.00'], [], ['ï¿½00.00'], ['ï¿½00.00'], ['ï¿½0.00'], [], ['ï¿½00.00'], ['ï¿½00.00'], ['Single fare - Outward journey', '1 x Adult - Anytime(16-25 Railcard)Savingï¿½19.00', 'ï¿½14.00'], ['ï¿½14.00'], ['ï¿½00.00'], ['Departs\\xa0at16:27Hazel Grove [HAZ]Platform1', '07m0 change(s)More view details  on the 16:27service from Hazel Grove toDisley', 'Arrives\\xa016:34Disley [DSL]Platform1Buy from Select train operatorSoutheasternGreat Western RailwayGreater AngliaThameslinkGrand CentralRailEasyLNERHull Trainsthetrainline.comC2CGreat NorthernRedspottedhankyNorthernSouthernEast Midlands RailwayAvanti West CoastChiltern RailwaysCaledonian SleeperLondon Northwestern RailwayWest Midlands RailwayLumoCrossCountryScotRailSouth Western RailwayTransport for WalesTransPennine ExpressRailEasyRedspottedhankythetrainline.com', 'on time', 'Single Fare£3.70Buy Now Anytime Othertickets'], ['Service UpdateStrike action by RMT union will significantly impact Northern services between 18 and 21 August.More information can be found here: northernrailway.co.uk/strikes'], ['Ticket summary - RETURNPlease select returnjourneyTotalï¿½00.00Totalï¿½00.00Fare informationOutwardReturnTicket summary SINGLEBuy fromOutward totalï¿½0.00Please select returnjourneyReturn totalï¿½00.00Totalï¿½00.00Single fare - Outward journey1 x Adult - Anytime(16-25 Railcard)Savingï¿½19.00ï¿½14.00Totalï¿½14.00Totalï¿½00.00Fare informationOutwardReturn', 'ï¿½00.00', 'ï¿½00.00', 'ï¿½0.00', 'ï¿½00.00', 'ï¿½00.00', 'Single fare - Outward journey', '1 x Adult - Anytime(16-25 Railcard)Savingï¿½19.00', 'ï¿½14.00', 'ï¿½14.00', 'ï¿½00.00'], [], ['ï¿½00.00'], ['ï¿½00.00'], ['ï¿½0.00'], [], ['ï¿½00.00'], ['ï¿½00.00'], ['Single fare - Outward journey', '1 x Adult - Anytime(16-25 Railcard)Savingï¿½19.00', 'ï¿½14.00'], ['ï¿½14.00'], ['ï¿½00.00'], ['Departs\\xa0at16:47Hazel Grove [HAZ]Platform1', '09m0 change(s)More view details  on the 16:47service from Hazel Grove toDisley', 'Arrives\\xa016:56Disley [DSL]Platform1Buy from Select train operatorSoutheasternGreat Western RailwayGreater AngliaThameslinkGrand CentralRailEasyLNERHull Trainsthetrainline.comC2CGreat NorthernRedspottedhankyNorthernSouthernEast Midlands RailwayAvanti West CoastChiltern RailwaysCaledonian SleeperLondon Northwestern RailwayWest Midlands RailwayLumoCrossCountryScotRailSouth Western RailwayTransport for WalesTransPennine ExpressRailEasyRedspottedhankythetrainline.com', 'on time', 'Single Fare£3.70Buy Now Anytime Othertickets'], ['Service UpdateStrike action by RMT union will significantly impact Northern services between 18 and 21 August.More information can be found here: northernrailway.co.uk/strikes'], ['Ticket summary - RETURNPlease select returnjourneyTotalï¿½00.00Totalï¿½00.00Fare informationOutwardReturnTicket summary SINGLEBuy fromOutward totalï¿½0.00Please select returnjourneyReturn totalï¿½00.00Totalï¿½00.00Single fare - Outward journey1 x Adult - Anytime(16-25 Railcard)Savingï¿½19.00ï¿½14.00Totalï¿½14.00Totalï¿½00.00Fare informationOutwardReturn', 'ï¿½00.00', 'ï¿½00.00', 'ï¿½0.00', 'ï¿½00.00', 'ï¿½00.00', 'Single fare - Outward journey', '1 x Adult - Anytime(16-25 Railcard)Savingï¿½19.00', 'ï¿½14.00', 'ï¿½14.00', 'ï¿½00.00'], [], ['ï¿½00.00'], ['ï¿½00.00'], ['ï¿½0.00'], [], ['ï¿½00.00'], ['ï¿½00.00'], ['Single fare - Outward journey', '1 x Adult - Anytime(16-25 Railcard)Savingï¿½19.00', 'ï¿½14.00'], ['ï¿½14.00'], ['ï¿½00.00'], ['Departs\\xa0at17:49Hazel Grove [HAZ]Platform1', '09m0 change(s)More view details  on the 17:49service from Hazel Grove toDisley', 'Arrives\\xa017:58Disley [DSL]Platform1Buy from Select train operatorSoutheasternGreat Western RailwayGreater AngliaThameslinkGrand CentralRailEasyLNERHull Trainsthetrainline.comC2CGreat NorthernRedspottedhankyNorthernSouthernEast Midlands RailwayAvanti West CoastChiltern RailwaysCaledonian SleeperLondon Northwestern RailwayWest Midlands RailwayLumoCrossCountryScotRailSouth Western RailwayTransport for WalesTransPennine ExpressRailEasyRedspottedhankythetrainline.com', 'on time', 'Single Fare£3.70Buy Now Anytime Othertickets'], ['Service UpdateStrike action by RMT union will significantly impact Northern services between 18 and 21 August.More information can be found here: northernrailway.co.uk/strikes'], ['Ticket summary - RETURNPlease select returnjourneyTotalï¿½00.00Totalï¿½00.00Fare informationOutwardReturnTicket summary SINGLEBuy fromOutward totalï¿½0.00Please select returnjourneyReturn totalï¿½00.00Totalï¿½00.00Single fare - Outward journey1 x Adult - Anytime(16-25 Railcard)Savingï¿½19.00ï¿½14.00Totalï¿½14.00Totalï¿½00.00Fare informationOutwardReturn', 'ï¿½00.00', 'ï¿½00.00', 'ï¿½0.00', 'ï¿½00.00', 'ï¿½00.00', 'Single fare - Outward journey', '1 x Adult - Anytime(16-25 Railcard)Savingï¿½19.00', 'ï¿½14.00', 'ï¿½14.00', 'ï¿½00.00'], [], ['ï¿½00.00'], ['ï¿½00.00'], ['ï¿½0.00'], [], ['ï¿½00.00'], ['ï¿½00.00'], ['Single fare - Outward journey', '1 x Adult - Anytime(16-25 Railcard)Savingï¿½19.00', 'ï¿½14.00'], ['ï¿½14.00'], ['ï¿½00.00'], ['Departs\\xa0at18:47Hazel Grove [HAZ]Platform1', '09m0 change(s)More view details  on the 18:47service from Hazel Grove toDisley', 'Arrives\\xa018:56Disley [DSL]Platform1Buy from Select train operatorSoutheasternGreat Western RailwayGreater AngliaThameslinkGrand CentralRailEasyLNERHull Trainsthetrainline.comC2CGreat NorthernRedspottedhankyNorthernSouthernEast Midlands RailwayAvanti West CoastChiltern RailwaysCaledonian SleeperLondon Northwestern RailwayWest Midlands RailwayLumoCrossCountryScotRailSouth Western RailwayTransport for WalesTransPennine ExpressRailEasyRedspottedhankythetrainline.com', 'on time', 'Single Fare£3.70Buy Now Anytime Othertickets'], ['Service UpdateStrike action by RMT union will significantly impact Northern services between 18 and 21 August.More information can be found here: northernrailway.co.uk/strikes'], ['Ticket summary - RETURNPlease select returnjourneyTotalï¿½00.00Totalï¿½00.00Fare informationOutwardReturnTicket summary SINGLEBuy fromOutward totalï¿½0.00Please select returnjourneyReturn totalï¿½00.00Totalï¿½00.00Single fare - Outward journey1 x Adult - Anytime(16-25 Railcard)Savingï¿½19.00ï¿½14.00Totalï¿½14.00Totalï¿½00.00Fare informationOutwardReturn', 'ï¿½00.00', 'ï¿½00.00', 'ï¿½0.00', 'ï¿½00.00', 'ï¿½00.00', 'Single fare - Outward journey', '1 x Adult - Anytime(16-25 Railcard)Savingï¿½19.00', 'ï¿½14.00', 'ï¿½14.00', 'ï¿½00.00'], [], ['ï¿½00.00'], ['ï¿½00.00'], ['ï¿½0.00'], [], ['ï¿½00.00'], ['ï¿½00.00'], ['Single fare - Outward journey', '1 x Adult - Anytime(16-25 Railcard)Savingï¿½19.00', 'ï¿½14.00'], ['ï¿½14.00'], ['ï¿½00.00']]\n"
     ]
    }
   ],
   "source": [
    "main()"
   ]
  },
  {
   "cell_type": "code",
   "execution_count": null,
   "metadata": {},
   "outputs": [],
   "source": []
  }
 ],
 "metadata": {
  "kernelspec": {
   "display_name": "Python 3 (ipykernel)",
   "language": "python",
   "name": "python3"
  },
  "language_info": {
   "codemirror_mode": {
    "name": "ipython",
    "version": 3
   },
   "file_extension": ".py",
   "mimetype": "text/x-python",
   "name": "python",
   "nbconvert_exporter": "python",
   "pygments_lexer": "ipython3",
   "version": "3.9.10"
  },
  "vscode": {
   "interpreter": {
    "hash": "767d51c1340bd893661ea55ea3124f6de3c7a262a8b4abca0554b478b1e2ff90"
   }
  }
 },
 "nbformat": 4,
 "nbformat_minor": 4
}
